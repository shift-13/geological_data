{
  "cells": [
    {
      "cell_type": "markdown",
      "metadata": {
        "id": "XZw7anvmgLnM"
      },
      "source": [
        "# Описание проекта"
      ]
    },
    {
      "cell_type": "markdown",
      "metadata": {
        "id": "1QiQPXbvgPpf"
      },
      "source": [
        "Допустим, мы работаем в добывающей компании «ГлавРосГосНефть». Нужно решить, где бурить новую скважину. \n",
        "Шаги для выбора локации обычно такие:\n",
        "* В избранном регионе собирают характеристики для скважин: качество нефти и объём её запасов;\n",
        "* Строят модель для предсказания объёма запасов в новых скважинах;\n",
        "* Выбирают скважины с самыми высокими оценками значений;\n",
        "* Определяют регион с максимальной суммарной прибылью отобранных скважин.\n",
        "\n",
        "Нам предоставлены пробы нефти в трёх регионах. Характеристики для каждой скважины в регионе уже известны. Построем модель для определения региона, где добыча принесёт наибольшую прибыль. Проанализируем возможную прибыль и риски техникой Bootstrap."
      ]
    },
    {
      "cell_type": "markdown",
      "metadata": {
        "id": "NIQ6yqy3I918"
      },
      "source": [
        "**Описание данных**  \n",
        "* `id` — уникальный идентификатор скважины;\n",
        "* `f0`, `f1`, `f2` — три признака точек;\n",
        "* `product` — объём запасов в скважине (тыс. баррелей)."
      ]
    },
    {
      "cell_type": "markdown",
      "metadata": {
        "id": "dzjCWMQ_jh6I"
      },
      "source": [
        "**Условия задачи:**\n",
        "* Для обучения модели подходит только линейная регрессия (остальные — недостаточно предсказуемые).\n",
        "* При разведке региона исследуют 500 точек, из которых с помощью машинного обучения выбирают 200 лучших для разработки.\n",
        "* Бюджет на разработку скважин в регионе — 10 млрд рублей.\n",
        "При нынешних ценах один баррель сырья приносит 450 рублей дохода. Доход с каждой единицы продукта составляет 450 тыс. рублей, поскольку объём указан в тысячах баррелей.\n",
        "* После оценки рисков нужно оставить лишь те регионы, в которых вероятность убытков меньше 2.5%. Среди них выбирают регион с наибольшей средней прибылью."
      ]
    },
    {
      "cell_type": "markdown",
      "metadata": {
        "id": "EaPIWByYbrO4"
      },
      "source": [
        "# Загрузка и подготовка данных"
      ]
    },
    {
      "cell_type": "markdown",
      "source": [
        "Загрузка библиотеки для отчета."
      ],
      "metadata": {
        "id": "FusSdom17tgn"
      }
    },
    {
      "cell_type": "code",
      "source": [
        "#!pip install sweetviz --quiet библиотека для создания отчета"
      ],
      "metadata": {
        "id": "GR--KbtLG4VC"
      },
      "execution_count": 13,
      "outputs": []
    },
    {
      "cell_type": "code",
      "execution_count": 14,
      "metadata": {
        "id": "-iXCsxhse851",
        "trusted": false
      },
      "outputs": [],
      "source": [
        "import pandas as pd\n",
        "\n",
        "import seaborn as sns\n",
        "import matplotlib.pyplot as plt\n",
        "\n",
        "from numpy.random import RandomState\n",
        "\n",
        "from sklearn.linear_model import LinearRegression\n",
        "from sklearn.metrics import *\n",
        "from sklearn.model_selection import cross_val_score, train_test_split\n",
        "\n",
        "#import sweetviz as sv"
      ]
    },
    {
      "cell_type": "markdown",
      "metadata": {
        "id": "_uAghgbdeZEc"
      },
      "source": [
        "### Первый датасет"
      ]
    },
    {
      "cell_type": "code",
      "execution_count": 4,
      "metadata": {
        "colab": {
          "base_uri": "https://localhost:8080/"
        },
        "id": "VanmSwJhbjXS",
        "outputId": "fd9d97ac-e280-4286-9921-7bdcd69b00cf",
        "trusted": false
      },
      "outputs": [
        {
          "output_type": "stream",
          "name": "stdout",
          "text": [
            "/usr/local/lib/python3.8/dist-packages/gdown/cli.py:127: FutureWarning: Option `--id` was deprecated in version 4.3.1 and will be removed in 5.0. You don't need to pass it anymore to use a file ID.\n",
            "  warnings.warn(\n",
            "Downloading...\n",
            "From: https://drive.google.com/uc?id=1vv4kTePQABbU3Dqy3LlUyvkkrBJUkTf4\n",
            "To: /content/geo_data_0.csv\n",
            "100% 8.21M/8.21M [00:00<00:00, 109MB/s]\n"
          ]
        }
      ],
      "source": [
        "try:\n",
        "  !gdown --id 1vv4kTePQABbU3Dqy3LlUyvkkrBJUkTf4\n",
        "  data_0 = pd.read_csv('geo_data_0.csv')\n",
        "except:\n",
        "  data_0 = pd.read_csv('/datasets/geo_data_0.csv')"
      ]
    },
    {
      "cell_type": "code",
      "source": [
        "def info(data):\n",
        "  display(data.head())\n",
        "  print()\n",
        "  print(data.info())\n",
        "  print()\n",
        "  print('Количество дубликатов:', data.duplicated().sum())\n",
        "  print()\n",
        "  print('Количество пропусков', data.isna().sum(), sep='\\n')\n",
        "  print()\n",
        "  print('Значения целевого признака:')\n",
        "  sns.boxplot(x=data['product'])\n",
        "  plt.show()\n",
        "  print('Тепловая карта:')\n",
        "  sns.heatmap(data.corr(), annot=True)"
      ],
      "metadata": {
        "id": "VdZyI7_DPvJ0"
      },
      "execution_count": null,
      "outputs": []
    },
    {
      "cell_type": "code",
      "source": [
        "info(data_0)"
      ],
      "metadata": {
        "colab": {
          "base_uri": "https://localhost:8080/",
          "height": 1000
        },
        "id": "4uP9XLlwPxBR",
        "outputId": "95f05930-748c-4e44-a4c7-230cc9c44556"
      },
      "execution_count": null,
      "outputs": [
        {
          "output_type": "display_data",
          "data": {
            "text/plain": [
              "      id        f0        f1        f2     product\n",
              "0  txEyH  0.705745 -0.497823  1.221170  105.280062\n",
              "1  2acmU  1.334711 -0.340164  4.365080   73.037750\n",
              "2  409Wp  1.022732  0.151990  1.419926   85.265647\n",
              "3  iJLyR -0.032172  0.139033  2.978566  168.620776\n",
              "4  Xdl7t  1.988431  0.155413  4.751769  154.036647"
            ],
            "text/html": [
              "\n",
              "  <div id=\"df-9075d11d-7618-45ed-bc37-b3ac73cf1227\">\n",
              "    <div class=\"colab-df-container\">\n",
              "      <div>\n",
              "<style scoped>\n",
              "    .dataframe tbody tr th:only-of-type {\n",
              "        vertical-align: middle;\n",
              "    }\n",
              "\n",
              "    .dataframe tbody tr th {\n",
              "        vertical-align: top;\n",
              "    }\n",
              "\n",
              "    .dataframe thead th {\n",
              "        text-align: right;\n",
              "    }\n",
              "</style>\n",
              "<table border=\"1\" class=\"dataframe\">\n",
              "  <thead>\n",
              "    <tr style=\"text-align: right;\">\n",
              "      <th></th>\n",
              "      <th>id</th>\n",
              "      <th>f0</th>\n",
              "      <th>f1</th>\n",
              "      <th>f2</th>\n",
              "      <th>product</th>\n",
              "    </tr>\n",
              "  </thead>\n",
              "  <tbody>\n",
              "    <tr>\n",
              "      <th>0</th>\n",
              "      <td>txEyH</td>\n",
              "      <td>0.705745</td>\n",
              "      <td>-0.497823</td>\n",
              "      <td>1.221170</td>\n",
              "      <td>105.280062</td>\n",
              "    </tr>\n",
              "    <tr>\n",
              "      <th>1</th>\n",
              "      <td>2acmU</td>\n",
              "      <td>1.334711</td>\n",
              "      <td>-0.340164</td>\n",
              "      <td>4.365080</td>\n",
              "      <td>73.037750</td>\n",
              "    </tr>\n",
              "    <tr>\n",
              "      <th>2</th>\n",
              "      <td>409Wp</td>\n",
              "      <td>1.022732</td>\n",
              "      <td>0.151990</td>\n",
              "      <td>1.419926</td>\n",
              "      <td>85.265647</td>\n",
              "    </tr>\n",
              "    <tr>\n",
              "      <th>3</th>\n",
              "      <td>iJLyR</td>\n",
              "      <td>-0.032172</td>\n",
              "      <td>0.139033</td>\n",
              "      <td>2.978566</td>\n",
              "      <td>168.620776</td>\n",
              "    </tr>\n",
              "    <tr>\n",
              "      <th>4</th>\n",
              "      <td>Xdl7t</td>\n",
              "      <td>1.988431</td>\n",
              "      <td>0.155413</td>\n",
              "      <td>4.751769</td>\n",
              "      <td>154.036647</td>\n",
              "    </tr>\n",
              "  </tbody>\n",
              "</table>\n",
              "</div>\n",
              "      <button class=\"colab-df-convert\" onclick=\"convertToInteractive('df-9075d11d-7618-45ed-bc37-b3ac73cf1227')\"\n",
              "              title=\"Convert this dataframe to an interactive table.\"\n",
              "              style=\"display:none;\">\n",
              "        \n",
              "  <svg xmlns=\"http://www.w3.org/2000/svg\" height=\"24px\"viewBox=\"0 0 24 24\"\n",
              "       width=\"24px\">\n",
              "    <path d=\"M0 0h24v24H0V0z\" fill=\"none\"/>\n",
              "    <path d=\"M18.56 5.44l.94 2.06.94-2.06 2.06-.94-2.06-.94-.94-2.06-.94 2.06-2.06.94zm-11 1L8.5 8.5l.94-2.06 2.06-.94-2.06-.94L8.5 2.5l-.94 2.06-2.06.94zm10 10l.94 2.06.94-2.06 2.06-.94-2.06-.94-.94-2.06-.94 2.06-2.06.94z\"/><path d=\"M17.41 7.96l-1.37-1.37c-.4-.4-.92-.59-1.43-.59-.52 0-1.04.2-1.43.59L10.3 9.45l-7.72 7.72c-.78.78-.78 2.05 0 2.83L4 21.41c.39.39.9.59 1.41.59.51 0 1.02-.2 1.41-.59l7.78-7.78 2.81-2.81c.8-.78.8-2.07 0-2.86zM5.41 20L4 18.59l7.72-7.72 1.47 1.35L5.41 20z\"/>\n",
              "  </svg>\n",
              "      </button>\n",
              "      \n",
              "  <style>\n",
              "    .colab-df-container {\n",
              "      display:flex;\n",
              "      flex-wrap:wrap;\n",
              "      gap: 12px;\n",
              "    }\n",
              "\n",
              "    .colab-df-convert {\n",
              "      background-color: #E8F0FE;\n",
              "      border: none;\n",
              "      border-radius: 50%;\n",
              "      cursor: pointer;\n",
              "      display: none;\n",
              "      fill: #1967D2;\n",
              "      height: 32px;\n",
              "      padding: 0 0 0 0;\n",
              "      width: 32px;\n",
              "    }\n",
              "\n",
              "    .colab-df-convert:hover {\n",
              "      background-color: #E2EBFA;\n",
              "      box-shadow: 0px 1px 2px rgba(60, 64, 67, 0.3), 0px 1px 3px 1px rgba(60, 64, 67, 0.15);\n",
              "      fill: #174EA6;\n",
              "    }\n",
              "\n",
              "    [theme=dark] .colab-df-convert {\n",
              "      background-color: #3B4455;\n",
              "      fill: #D2E3FC;\n",
              "    }\n",
              "\n",
              "    [theme=dark] .colab-df-convert:hover {\n",
              "      background-color: #434B5C;\n",
              "      box-shadow: 0px 1px 3px 1px rgba(0, 0, 0, 0.15);\n",
              "      filter: drop-shadow(0px 1px 2px rgba(0, 0, 0, 0.3));\n",
              "      fill: #FFFFFF;\n",
              "    }\n",
              "  </style>\n",
              "\n",
              "      <script>\n",
              "        const buttonEl =\n",
              "          document.querySelector('#df-9075d11d-7618-45ed-bc37-b3ac73cf1227 button.colab-df-convert');\n",
              "        buttonEl.style.display =\n",
              "          google.colab.kernel.accessAllowed ? 'block' : 'none';\n",
              "\n",
              "        async function convertToInteractive(key) {\n",
              "          const element = document.querySelector('#df-9075d11d-7618-45ed-bc37-b3ac73cf1227');\n",
              "          const dataTable =\n",
              "            await google.colab.kernel.invokeFunction('convertToInteractive',\n",
              "                                                     [key], {});\n",
              "          if (!dataTable) return;\n",
              "\n",
              "          const docLinkHtml = 'Like what you see? Visit the ' +\n",
              "            '<a target=\"_blank\" href=https://colab.research.google.com/notebooks/data_table.ipynb>data table notebook</a>'\n",
              "            + ' to learn more about interactive tables.';\n",
              "          element.innerHTML = '';\n",
              "          dataTable['output_type'] = 'display_data';\n",
              "          await google.colab.output.renderOutput(dataTable, element);\n",
              "          const docLink = document.createElement('div');\n",
              "          docLink.innerHTML = docLinkHtml;\n",
              "          element.appendChild(docLink);\n",
              "        }\n",
              "      </script>\n",
              "    </div>\n",
              "  </div>\n",
              "  "
            ]
          },
          "metadata": {}
        },
        {
          "output_type": "stream",
          "name": "stdout",
          "text": [
            "\n",
            "<class 'pandas.core.frame.DataFrame'>\n",
            "RangeIndex: 100000 entries, 0 to 99999\n",
            "Data columns (total 5 columns):\n",
            " #   Column   Non-Null Count   Dtype  \n",
            "---  ------   --------------   -----  \n",
            " 0   id       100000 non-null  object \n",
            " 1   f0       100000 non-null  float64\n",
            " 2   f1       100000 non-null  float64\n",
            " 3   f2       100000 non-null  float64\n",
            " 4   product  100000 non-null  float64\n",
            "dtypes: float64(4), object(1)\n",
            "memory usage: 3.8+ MB\n",
            "None\n",
            "\n",
            "Количество дубликатов: 0\n",
            "\n",
            "Количество пропусков\n",
            "id         0\n",
            "f0         0\n",
            "f1         0\n",
            "f2         0\n",
            "product    0\n",
            "dtype: int64\n",
            "\n",
            "Значения целевого признака:\n"
          ]
        },
        {
          "output_type": "display_data",
          "data": {
            "text/plain": [
              "<Figure size 432x288 with 1 Axes>"
            ],
            "image/png": "[encoded data removed]"
          },
          "metadata": {
            "needs_background": "light"
          }
        },
        {
          "output_type": "stream",
          "name": "stdout",
          "text": [
            "Тепловая карта:\n"
          ]
        },
        {
          "output_type": "display_data",
          "data": {
            "text/plain": [
              "<Figure size 432x288 with 2 Axes>"
            ],
            "image/png": "[encoded data removed]"
          },
          "metadata": {
            "needs_background": "light"
          }
        }
      ]
    },
    {
      "cell_type": "markdown",
      "metadata": {
        "id": "b9Jtebjafjfm"
      },
      "source": [
        "### Второй датасет"
      ]
    },
    {
      "cell_type": "code",
      "execution_count": 5,
      "metadata": {
        "colab": {
          "base_uri": "https://localhost:8080/"
        },
        "id": "5XjHbXDhfnmg",
        "outputId": "c6d9c2a4-fb6d-47a7-a6f1-7c16f96fd656",
        "trusted": false
      },
      "outputs": [
        {
          "output_type": "stream",
          "name": "stdout",
          "text": [
            "/usr/local/lib/python3.8/dist-packages/gdown/cli.py:127: FutureWarning: Option `--id` was deprecated in version 4.3.1 and will be removed in 5.0. You don't need to pass it anymore to use a file ID.\n",
            "  warnings.warn(\n",
            "Downloading...\n",
            "From: https://drive.google.com/uc?id=18ELJD0kalEAaCVOcwl4JdJW_qgT-xyWa\n",
            "To: /content/geo_data_1.csv\n",
            "100% 8.03M/8.03M [00:00<00:00, 48.9MB/s]\n"
          ]
        }
      ],
      "source": [
        "try:\n",
        "  !gdown --id 18ELJD0kalEAaCVOcwl4JdJW_qgT-xyWa\n",
        "  data_1 = pd.read_csv('geo_data_1.csv')\n",
        "except:\n",
        "  data_1 = pd.read_csv('/datasets/geo_data_1.csv')"
      ]
    },
    {
      "cell_type": "code",
      "source": [
        "info(data_1)"
      ],
      "metadata": {
        "colab": {
          "base_uri": "https://localhost:8080/",
          "height": 1000
        },
        "id": "cnf5EJn_P0bR",
        "outputId": "278127eb-9729-4fee-b3fd-f4035bb985d6"
      },
      "execution_count": null,
      "outputs": [
        {
          "output_type": "display_data",
          "data": {
            "text/plain": [
              "      id         f0         f1        f2     product\n",
              "0  kBEdx -15.001348  -8.276000 -0.005876    3.179103\n",
              "1  62mP7  14.272088  -3.475083  0.999183   26.953261\n",
              "2  vyE1P   6.263187  -5.948386  5.001160  134.766305\n",
              "3  KcrkZ -13.081196 -11.506057  4.999415  137.945408\n",
              "4  AHL4O  12.702195  -8.147433  5.004363  134.766305"
            ],
            "text/html": [
              "\n",
              "  <div id=\"df-dbfee65c-7629-451a-ad6d-521f7620a3c5\">\n",
              "    <div class=\"colab-df-container\">\n",
              "      <div>\n",
              "<style scoped>\n",
              "    .dataframe tbody tr th:only-of-type {\n",
              "        vertical-align: middle;\n",
              "    }\n",
              "\n",
              "    .dataframe tbody tr th {\n",
              "        vertical-align: top;\n",
              "    }\n",
              "\n",
              "    .dataframe thead th {\n",
              "        text-align: right;\n",
              "    }\n",
              "</style>\n",
              "<table border=\"1\" class=\"dataframe\">\n",
              "  <thead>\n",
              "    <tr style=\"text-align: right;\">\n",
              "      <th></th>\n",
              "      <th>id</th>\n",
              "      <th>f0</th>\n",
              "      <th>f1</th>\n",
              "      <th>f2</th>\n",
              "      <th>product</th>\n",
              "    </tr>\n",
              "  </thead>\n",
              "  <tbody>\n",
              "    <tr>\n",
              "      <th>0</th>\n",
              "      <td>kBEdx</td>\n",
              "      <td>-15.001348</td>\n",
              "      <td>-8.276000</td>\n",
              "      <td>-0.005876</td>\n",
              "      <td>3.179103</td>\n",
              "    </tr>\n",
              "    <tr>\n",
              "      <th>1</th>\n",
              "      <td>62mP7</td>\n",
              "      <td>14.272088</td>\n",
              "      <td>-3.475083</td>\n",
              "      <td>0.999183</td>\n",
              "      <td>26.953261</td>\n",
              "    </tr>\n",
              "    <tr>\n",
              "      <th>2</th>\n",
              "      <td>vyE1P</td>\n",
              "      <td>6.263187</td>\n",
              "      <td>-5.948386</td>\n",
              "      <td>5.001160</td>\n",
              "      <td>134.766305</td>\n",
              "    </tr>\n",
              "    <tr>\n",
              "      <th>3</th>\n",
              "      <td>KcrkZ</td>\n",
              "      <td>-13.081196</td>\n",
              "      <td>-11.506057</td>\n",
              "      <td>4.999415</td>\n",
              "      <td>137.945408</td>\n",
              "    </tr>\n",
              "    <tr>\n",
              "      <th>4</th>\n",
              "      <td>AHL4O</td>\n",
              "      <td>12.702195</td>\n",
              "      <td>-8.147433</td>\n",
              "      <td>5.004363</td>\n",
              "      <td>134.766305</td>\n",
              "    </tr>\n",
              "  </tbody>\n",
              "</table>\n",
              "</div>\n",
              "      <button class=\"colab-df-convert\" onclick=\"convertToInteractive('df-dbfee65c-7629-451a-ad6d-521f7620a3c5')\"\n",
              "              title=\"Convert this dataframe to an interactive table.\"\n",
              "              style=\"display:none;\">\n",
              "        \n",
              "  <svg xmlns=\"http://www.w3.org/2000/svg\" height=\"24px\"viewBox=\"0 0 24 24\"\n",
              "       width=\"24px\">\n",
              "    <path d=\"M0 0h24v24H0V0z\" fill=\"none\"/>\n",
              "    <path d=\"M18.56 5.44l.94 2.06.94-2.06 2.06-.94-2.06-.94-.94-2.06-.94 2.06-2.06.94zm-11 1L8.5 8.5l.94-2.06 2.06-.94-2.06-.94L8.5 2.5l-.94 2.06-2.06.94zm10 10l.94 2.06.94-2.06 2.06-.94-2.06-.94-.94-2.06-.94 2.06-2.06.94z\"/><path d=\"M17.41 7.96l-1.37-1.37c-.4-.4-.92-.59-1.43-.59-.52 0-1.04.2-1.43.59L10.3 9.45l-7.72 7.72c-.78.78-.78 2.05 0 2.83L4 21.41c.39.39.9.59 1.41.59.51 0 1.02-.2 1.41-.59l7.78-7.78 2.81-2.81c.8-.78.8-2.07 0-2.86zM5.41 20L4 18.59l7.72-7.72 1.47 1.35L5.41 20z\"/>\n",
              "  </svg>\n",
              "      </button>\n",
              "      \n",
              "  <style>\n",
              "    .colab-df-container {\n",
              "      display:flex;\n",
              "      flex-wrap:wrap;\n",
              "      gap: 12px;\n",
              "    }\n",
              "\n",
              "    .colab-df-convert {\n",
              "      background-color: #E8F0FE;\n",
              "      border: none;\n",
              "      border-radius: 50%;\n",
              "      cursor: pointer;\n",
              "      display: none;\n",
              "      fill: #1967D2;\n",
              "      height: 32px;\n",
              "      padding: 0 0 0 0;\n",
              "      width: 32px;\n",
              "    }\n",
              "\n",
              "    .colab-df-convert:hover {\n",
              "      background-color: #E2EBFA;\n",
              "      box-shadow: 0px 1px 2px rgba(60, 64, 67, 0.3), 0px 1px 3px 1px rgba(60, 64, 67, 0.15);\n",
              "      fill: #174EA6;\n",
              "    }\n",
              "\n",
              "    [theme=dark] .colab-df-convert {\n",
              "      background-color: #3B4455;\n",
              "      fill: #D2E3FC;\n",
              "    }\n",
              "\n",
              "    [theme=dark] .colab-df-convert:hover {\n",
              "      background-color: #434B5C;\n",
              "      box-shadow: 0px 1px 3px 1px rgba(0, 0, 0, 0.15);\n",
              "      filter: drop-shadow(0px 1px 2px rgba(0, 0, 0, 0.3));\n",
              "      fill: #FFFFFF;\n",
              "    }\n",
              "  </style>\n",
              "\n",
              "      <script>\n",
              "        const buttonEl =\n",
              "          document.querySelector('#df-dbfee65c-7629-451a-ad6d-521f7620a3c5 button.colab-df-convert');\n",
              "        buttonEl.style.display =\n",
              "          google.colab.kernel.accessAllowed ? 'block' : 'none';\n",
              "\n",
              "        async function convertToInteractive(key) {\n",
              "          const element = document.querySelector('#df-dbfee65c-7629-451a-ad6d-521f7620a3c5');\n",
              "          const dataTable =\n",
              "            await google.colab.kernel.invokeFunction('convertToInteractive',\n",
              "                                                     [key], {});\n",
              "          if (!dataTable) return;\n",
              "\n",
              "          const docLinkHtml = 'Like what you see? Visit the ' +\n",
              "            '<a target=\"_blank\" href=https://colab.research.google.com/notebooks/data_table.ipynb>data table notebook</a>'\n",
              "            + ' to learn more about interactive tables.';\n",
              "          element.innerHTML = '';\n",
              "          dataTable['output_type'] = 'display_data';\n",
              "          await google.colab.output.renderOutput(dataTable, element);\n",
              "          const docLink = document.createElement('div');\n",
              "          docLink.innerHTML = docLinkHtml;\n",
              "          element.appendChild(docLink);\n",
              "        }\n",
              "      </script>\n",
              "    </div>\n",
              "  </div>\n",
              "  "
            ]
          },
          "metadata": {}
        },
        {
          "output_type": "stream",
          "name": "stdout",
          "text": [
            "\n",
            "<class 'pandas.core.frame.DataFrame'>\n",
            "RangeIndex: 100000 entries, 0 to 99999\n",
            "Data columns (total 5 columns):\n",
            " #   Column   Non-Null Count   Dtype  \n",
            "---  ------   --------------   -----  \n",
            " 0   id       100000 non-null  object \n",
            " 1   f0       100000 non-null  float64\n",
            " 2   f1       100000 non-null  float64\n",
            " 3   f2       100000 non-null  float64\n",
            " 4   product  100000 non-null  float64\n",
            "dtypes: float64(4), object(1)\n",
            "memory usage: 3.8+ MB\n",
            "None\n",
            "\n",
            "Количество дубликатов: 0\n",
            "\n",
            "Количество пропусков\n",
            "id         0\n",
            "f0         0\n",
            "f1         0\n",
            "f2         0\n",
            "product    0\n",
            "dtype: int64\n",
            "\n",
            "Значения целевого признака:\n"
          ]
        },
        {
          "output_type": "display_data",
          "data": {
            "text/plain": [
              "<Figure size 432x288 with 1 Axes>"
            ],
            "image/png": "[encoded data removed]"
          },
          "metadata": {
            "needs_background": "light"
          }
        },
        {
          "output_type": "stream",
          "name": "stdout",
          "text": [
            "Тепловая карта:\n"
          ]
        },
        {
          "output_type": "display_data",
          "data": {
            "text/plain": [
              "<Figure size 432x288 with 2 Axes>"
            ],
            "image/png": "[encoded data removed]"
          },
          "metadata": {
            "needs_background": "light"
          }
        }
      ]
    },
    {
      "cell_type": "markdown",
      "metadata": {
        "id": "swDZ6BBuf0PQ"
      },
      "source": [
        "### Третий датасет"
      ]
    },
    {
      "cell_type": "code",
      "execution_count": 6,
      "metadata": {
        "colab": {
          "base_uri": "https://localhost:8080/"
        },
        "id": "LKPkYS5If2yv",
        "outputId": "4fe0456a-66f1-4e3b-f100-0bd91e6d7c13",
        "trusted": false
      },
      "outputs": [
        {
          "output_type": "stream",
          "name": "stdout",
          "text": [
            "/usr/local/lib/python3.8/dist-packages/gdown/cli.py:127: FutureWarning: Option `--id` was deprecated in version 4.3.1 and will be removed in 5.0. You don't need to pass it anymore to use a file ID.\n",
            "  warnings.warn(\n",
            "Downloading...\n",
            "From: https://drive.google.com/uc?id=1fOCUpYBvkKsC2P35H-Lazz53-XtCrh7g\n",
            "To: /content/geo_data_2.csv\n",
            "100% 8.19M/8.19M [00:00<00:00, 55.7MB/s]\n"
          ]
        }
      ],
      "source": [
        "try:\n",
        "  !gdown --id 1fOCUpYBvkKsC2P35H-Lazz53-XtCrh7g\n",
        "  data_2 = pd.read_csv('geo_data_2.csv')\n",
        "except:\n",
        "  data_2 = pd.read_csv('/datasets/geo_data_2.csv')"
      ]
    },
    {
      "cell_type": "code",
      "source": [
        "info(data_2)"
      ],
      "metadata": {
        "colab": {
          "base_uri": "https://localhost:8080/",
          "height": 1000
        },
        "id": "dkQWOV1iP2vD",
        "outputId": "d0c97b48-f2cb-40bb-da0c-30ae7a41df5a"
      },
      "execution_count": null,
      "outputs": [
        {
          "output_type": "display_data",
          "data": {
            "text/plain": [
              "      id        f0        f1        f2     product\n",
              "0  fwXo0 -1.146987  0.963328 -0.828965   27.758673\n",
              "1  WJtFt  0.262778  0.269839 -2.530187   56.069697\n",
              "2  ovLUW  0.194587  0.289035 -5.586433   62.871910\n",
              "3  q6cA6  2.236060 -0.553760  0.930038  114.572842\n",
              "4  WPMUX -0.515993  1.716266  5.899011  149.600746"
            ],
            "text/html": [
              "\n",
              "  <div id=\"df-5fd3a07d-ca88-43a1-a71f-6a37b0ee59c5\">\n",
              "    <div class=\"colab-df-container\">\n",
              "      <div>\n",
              "<style scoped>\n",
              "    .dataframe tbody tr th:only-of-type {\n",
              "        vertical-align: middle;\n",
              "    }\n",
              "\n",
              "    .dataframe tbody tr th {\n",
              "        vertical-align: top;\n",
              "    }\n",
              "\n",
              "    .dataframe thead th {\n",
              "        text-align: right;\n",
              "    }\n",
              "</style>\n",
              "<table border=\"1\" class=\"dataframe\">\n",
              "  <thead>\n",
              "    <tr style=\"text-align: right;\">\n",
              "      <th></th>\n",
              "      <th>id</th>\n",
              "      <th>f0</th>\n",
              "      <th>f1</th>\n",
              "      <th>f2</th>\n",
              "      <th>product</th>\n",
              "    </tr>\n",
              "  </thead>\n",
              "  <tbody>\n",
              "    <tr>\n",
              "      <th>0</th>\n",
              "      <td>fwXo0</td>\n",
              "      <td>-1.146987</td>\n",
              "      <td>0.963328</td>\n",
              "      <td>-0.828965</td>\n",
              "      <td>27.758673</td>\n",
              "    </tr>\n",
              "    <tr>\n",
              "      <th>1</th>\n",
              "      <td>WJtFt</td>\n",
              "      <td>0.262778</td>\n",
              "      <td>0.269839</td>\n",
              "      <td>-2.530187</td>\n",
              "      <td>56.069697</td>\n",
              "    </tr>\n",
              "    <tr>\n",
              "      <th>2</th>\n",
              "      <td>ovLUW</td>\n",
              "      <td>0.194587</td>\n",
              "      <td>0.289035</td>\n",
              "      <td>-5.586433</td>\n",
              "      <td>62.871910</td>\n",
              "    </tr>\n",
              "    <tr>\n",
              "      <th>3</th>\n",
              "      <td>q6cA6</td>\n",
              "      <td>2.236060</td>\n",
              "      <td>-0.553760</td>\n",
              "      <td>0.930038</td>\n",
              "      <td>114.572842</td>\n",
              "    </tr>\n",
              "    <tr>\n",
              "      <th>4</th>\n",
              "      <td>WPMUX</td>\n",
              "      <td>-0.515993</td>\n",
              "      <td>1.716266</td>\n",
              "      <td>5.899011</td>\n",
              "      <td>149.600746</td>\n",
              "    </tr>\n",
              "  </tbody>\n",
              "</table>\n",
              "</div>\n",
              "      <button class=\"colab-df-convert\" onclick=\"convertToInteractive('df-5fd3a07d-ca88-43a1-a71f-6a37b0ee59c5')\"\n",
              "              title=\"Convert this dataframe to an interactive table.\"\n",
              "              style=\"display:none;\">\n",
              "        \n",
              "  <svg xmlns=\"http://www.w3.org/2000/svg\" height=\"24px\"viewBox=\"0 0 24 24\"\n",
              "       width=\"24px\">\n",
              "    <path d=\"M0 0h24v24H0V0z\" fill=\"none\"/>\n",
              "    <path d=\"M18.56 5.44l.94 2.06.94-2.06 2.06-.94-2.06-.94-.94-2.06-.94 2.06-2.06.94zm-11 1L8.5 8.5l.94-2.06 2.06-.94-2.06-.94L8.5 2.5l-.94 2.06-2.06.94zm10 10l.94 2.06.94-2.06 2.06-.94-2.06-.94-.94-2.06-.94 2.06-2.06.94z\"/><path d=\"M17.41 7.96l-1.37-1.37c-.4-.4-.92-.59-1.43-.59-.52 0-1.04.2-1.43.59L10.3 9.45l-7.72 7.72c-.78.78-.78 2.05 0 2.83L4 21.41c.39.39.9.59 1.41.59.51 0 1.02-.2 1.41-.59l7.78-7.78 2.81-2.81c.8-.78.8-2.07 0-2.86zM5.41 20L4 18.59l7.72-7.72 1.47 1.35L5.41 20z\"/>\n",
              "  </svg>\n",
              "      </button>\n",
              "      \n",
              "  <style>\n",
              "    .colab-df-container {\n",
              "      display:flex;\n",
              "      flex-wrap:wrap;\n",
              "      gap: 12px;\n",
              "    }\n",
              "\n",
              "    .colab-df-convert {\n",
              "      background-color: #E8F0FE;\n",
              "      border: none;\n",
              "      border-radius: 50%;\n",
              "      cursor: pointer;\n",
              "      display: none;\n",
              "      fill: #1967D2;\n",
              "      height: 32px;\n",
              "      padding: 0 0 0 0;\n",
              "      width: 32px;\n",
              "    }\n",
              "\n",
              "    .colab-df-convert:hover {\n",
              "      background-color: #E2EBFA;\n",
              "      box-shadow: 0px 1px 2px rgba(60, 64, 67, 0.3), 0px 1px 3px 1px rgba(60, 64, 67, 0.15);\n",
              "      fill: #174EA6;\n",
              "    }\n",
              "\n",
              "    [theme=dark] .colab-df-convert {\n",
              "      background-color: #3B4455;\n",
              "      fill: #D2E3FC;\n",
              "    }\n",
              "\n",
              "    [theme=dark] .colab-df-convert:hover {\n",
              "      background-color: #434B5C;\n",
              "      box-shadow: 0px 1px 3px 1px rgba(0, 0, 0, 0.15);\n",
              "      filter: drop-shadow(0px 1px 2px rgba(0, 0, 0, 0.3));\n",
              "      fill: #FFFFFF;\n",
              "    }\n",
              "  </style>\n",
              "\n",
              "      <script>\n",
              "        const buttonEl =\n",
              "          document.querySelector('#df-5fd3a07d-ca88-43a1-a71f-6a37b0ee59c5 button.colab-df-convert');\n",
              "        buttonEl.style.display =\n",
              "          google.colab.kernel.accessAllowed ? 'block' : 'none';\n",
              "\n",
              "        async function convertToInteractive(key) {\n",
              "          const element = document.querySelector('#df-5fd3a07d-ca88-43a1-a71f-6a37b0ee59c5');\n",
              "          const dataTable =\n",
              "            await google.colab.kernel.invokeFunction('convertToInteractive',\n",
              "                                                     [key], {});\n",
              "          if (!dataTable) return;\n",
              "\n",
              "          const docLinkHtml = 'Like what you see? Visit the ' +\n",
              "            '<a target=\"_blank\" href=https://colab.research.google.com/notebooks/data_table.ipynb>data table notebook</a>'\n",
              "            + ' to learn more about interactive tables.';\n",
              "          element.innerHTML = '';\n",
              "          dataTable['output_type'] = 'display_data';\n",
              "          await google.colab.output.renderOutput(dataTable, element);\n",
              "          const docLink = document.createElement('div');\n",
              "          docLink.innerHTML = docLinkHtml;\n",
              "          element.appendChild(docLink);\n",
              "        }\n",
              "      </script>\n",
              "    </div>\n",
              "  </div>\n",
              "  "
            ]
          },
          "metadata": {}
        },
        {
          "output_type": "stream",
          "name": "stdout",
          "text": [
            "\n",
            "<class 'pandas.core.frame.DataFrame'>\n",
            "RangeIndex: 100000 entries, 0 to 99999\n",
            "Data columns (total 5 columns):\n",
            " #   Column   Non-Null Count   Dtype  \n",
            "---  ------   --------------   -----  \n",
            " 0   id       100000 non-null  object \n",
            " 1   f0       100000 non-null  float64\n",
            " 2   f1       100000 non-null  float64\n",
            " 3   f2       100000 non-null  float64\n",
            " 4   product  100000 non-null  float64\n",
            "dtypes: float64(4), object(1)\n",
            "memory usage: 3.8+ MB\n",
            "None\n",
            "\n",
            "Количество дубликатов: 0\n",
            "\n",
            "Количество пропусков\n",
            "id         0\n",
            "f0         0\n",
            "f1         0\n",
            "f2         0\n",
            "product    0\n",
            "dtype: int64\n",
            "\n",
            "Значения целевого признака:\n"
          ]
        },
        {
          "output_type": "display_data",
          "data": {
            "text/plain": [
              "<Figure size 432x288 with 1 Axes>"
            ],
            "image/png": "[encoded data removed]"
          },
          "metadata": {
            "needs_background": "light"
          }
        },
        {
          "output_type": "stream",
          "name": "stdout",
          "text": [
            "Тепловая карта:\n"
          ]
        },
        {
          "output_type": "display_data",
          "data": {
            "text/plain": [
              "<Figure size 432x288 with 2 Axes>"
            ],
            "image/png": "[encoded data removed]"
          },
          "metadata": {
            "needs_background": "light"
          }
        }
      ]
    },
    {
      "cell_type": "code",
      "source": [
        "# report_0 = sv.compare([data_0, 'Регион 1'], [data_1, 'Регион 2']) формирование отчета\n",
        "# report_0.show_html() загрузка отчета\n",
        "# report_0.show_notebook() показать в блокноте"
      ],
      "metadata": {
        "id": "bDOlGemBI6UP"
      },
      "execution_count": 15,
      "outputs": []
    },
    {
      "cell_type": "code",
      "source": [
        "# report_2 = sv.analyze([data_0, \"Регион 3\"]) отчет для Региона 3\n",
        "# report_2.show_html()\n",
        "# report_2.show_notebook()"
      ],
      "metadata": {
        "id": "yM_wJh7e8_2B"
      },
      "execution_count": 16,
      "outputs": []
    },
    {
      "cell_type": "markdown",
      "source": [
        "[Отчет по первым двум регионам](https://drive.google.com/file/d/18NstOuleVCUwseAmxm-1hQk7DLJgARZB/view?usp=sharing)  \n",
        "[Отчет по Региону 3](https://drive.google.com/file/d/1KBfCncOcgekYsn52AnNlSC75vHNYRHeC/view?usp=sharing)"
      ],
      "metadata": {
        "id": "559u0_RszNyf"
      }
    },
    {
      "cell_type": "markdown",
      "metadata": {
        "id": "-QvaP6gVNHN3"
      },
      "source": [
        "**Итак,** имеется три датасета, в каждом по 5 колонок и 100 000 строк, пропусков нет, тип данных у признаков числовой, `id` имеет тип str. Подробнее о данных - в отчете. Для построения модели колонка с `id` нам не нужна."
      ]
    },
    {
      "cell_type": "markdown",
      "metadata": {
        "id": "i-dSIkAHbyV-"
      },
      "source": [
        "# Обучим и проверим модель для каждого региона"
      ]
    },
    {
      "cell_type": "markdown",
      "metadata": {
        "id": "_bm-Mtr8cYiE"
      },
      "source": [
        "## Разделим данные на обучающую и валидационную выборки"
      ]
    },
    {
      "cell_type": "code",
      "execution_count": null,
      "metadata": {
        "id": "eckU1zqNb2aV",
        "trusted": false
      },
      "outputs": [],
      "source": [
        "def split(data):\n",
        "  features = data.drop(['id', 'product'], axis=1)\n",
        "  target = data['product']\n",
        "  features_train,  features_valid, target_train, target_valid = train_test_split(features, target, test_size=0.25, random_state=12345)\n",
        "  return features_train,  features_valid, target_train, target_valid"
      ]
    },
    {
      "cell_type": "markdown",
      "metadata": {
        "id": "BTlivUgZcrU5"
      },
      "source": [
        "Разделим первый датасет."
      ]
    },
    {
      "cell_type": "code",
      "execution_count": null,
      "metadata": {
        "id": "cdNzKvzPbSrr",
        "trusted": false
      },
      "outputs": [],
      "source": [
        "features_train_0,  features_valid_0, target_train_0, target_valid_0 = split(data_0)"
      ]
    },
    {
      "cell_type": "code",
      "execution_count": null,
      "metadata": {
        "colab": {
          "base_uri": "https://localhost:8080/"
        },
        "id": "PAIOzvqfbgR6",
        "outputId": "622e830a-1800-4cd0-8006-38d1c54c6288",
        "trusted": false
      },
      "outputs": [
        {
          "output_type": "execute_result",
          "data": {
            "text/plain": [
              "((75000, 3), (25000, 3), (75000,), (25000,))"
            ]
          },
          "metadata": {},
          "execution_count": 40
        }
      ],
      "source": [
        "features_train_0.shape, features_valid_0.shape, target_train_0.shape, target_valid_0.shape"
      ]
    },
    {
      "cell_type": "markdown",
      "metadata": {
        "id": "V4-qneIOcwe8"
      },
      "source": [
        "Разделим данные второго датасета."
      ]
    },
    {
      "cell_type": "code",
      "execution_count": null,
      "metadata": {
        "colab": {
          "base_uri": "https://localhost:8080/"
        },
        "id": "krRXRHchcQIB",
        "outputId": "729df9dc-8e04-42c1-d731-3c11a1dd8259",
        "trusted": false
      },
      "outputs": [
        {
          "output_type": "execute_result",
          "data": {
            "text/plain": [
              "((75000, 3), (25000, 3), (75000,), (25000,))"
            ]
          },
          "metadata": {},
          "execution_count": 41
        }
      ],
      "source": [
        "features_train_1,  features_valid_1, target_train_1, target_valid_1 = split(data_1)\n",
        "features_train_1.shape, features_valid_1.shape, target_train_1.shape, target_valid_1.shape"
      ]
    },
    {
      "cell_type": "markdown",
      "metadata": {
        "id": "aiKMhqZfc15z"
      },
      "source": [
        "Поделим на выборки третий датасет."
      ]
    },
    {
      "cell_type": "code",
      "execution_count": null,
      "metadata": {
        "colab": {
          "base_uri": "https://localhost:8080/"
        },
        "id": "3LvCz0E-cg9G",
        "outputId": "3e89a8c2-fa5c-424a-a030-c58e6991f629",
        "trusted": false
      },
      "outputs": [
        {
          "output_type": "execute_result",
          "data": {
            "text/plain": [
              "((75000, 3), (25000, 3), (75000,), (25000,))"
            ]
          },
          "metadata": {},
          "execution_count": 42
        }
      ],
      "source": [
        "features_train_2,  features_valid_2, target_train_2, target_valid_2 = split(data_2)\n",
        "features_train_2.shape, features_valid_2.shape, target_train_2.shape, target_valid_2.shape"
      ]
    },
    {
      "cell_type": "markdown",
      "metadata": {
        "id": "bQSDvbJpceul"
      },
      "source": [
        "## Обучим модель и сделаем предсказания на валидационной выборке"
      ]
    },
    {
      "cell_type": "markdown",
      "metadata": {
        "id": "-2gLMu3BaBAV"
      },
      "source": [
        "Напишем функцию для линейной регрессии и сохранения предсказания, а так же вывожа RMSE и среднего запаса предсказанного сырья."
      ]
    },
    {
      "cell_type": "code",
      "execution_count": null,
      "metadata": {
        "id": "JW5wJXntXnnN",
        "trusted": false
      },
      "outputs": [],
      "source": [
        "def model_predict(features_train, target_train, features_valid, target_valid):\n",
        "  model = LinearRegression()\n",
        "  model.fit(features_train, target_train)\n",
        "  predict = model.predict(features_valid)\n",
        "  print(f'Средний запас сырья: {target_valid.mean().round(2)}')\n",
        "  print(f'Средний запас предсказанного сырья: {predict.mean().round(2)}')\n",
        "  mse = mean_squared_error(target_valid, predict)\n",
        "  print(f'RMSE: {(mse ** 0.5).round(2)}')\n",
        "  print(f'Коэффициент детерминации: {r2_score(target_valid, predict).round(2)}')\n",
        "  return predict"
      ]
    },
    {
      "cell_type": "markdown",
      "metadata": {
        "id": "NgFSccMQeJmy"
      },
      "source": [
        "Применим функцию для первого датасета."
      ]
    },
    {
      "cell_type": "code",
      "execution_count": null,
      "metadata": {
        "colab": {
          "base_uri": "https://localhost:8080/"
        },
        "id": "46Tp1hkPaSNp",
        "outputId": "4ca4cafa-5cca-4f50-a792-0c8e795b3a72",
        "trusted": false
      },
      "outputs": [
        {
          "output_type": "stream",
          "name": "stdout",
          "text": [
            "Средний запас сырья: 92.08\n",
            "Средний запас предсказанного сырья: 92.59\n",
            "RMSE: 37.58\n",
            "Коэффициент детерминации: 0.28\n"
          ]
        }
      ],
      "source": [
        "predict_0 = model_predict(features_train_0, target_train_0, features_valid_0, target_valid_0)"
      ]
    },
    {
      "cell_type": "markdown",
      "metadata": {
        "id": "IhW06LqSeNiB"
      },
      "source": [
        "Для второго датасета."
      ]
    },
    {
      "cell_type": "code",
      "execution_count": null,
      "metadata": {
        "colab": {
          "base_uri": "https://localhost:8080/"
        },
        "id": "6H71439VdmKO",
        "outputId": "688729f5-05a6-4059-fec3-36c9d3d80d1d",
        "trusted": false
      },
      "outputs": [
        {
          "output_type": "stream",
          "name": "stdout",
          "text": [
            "Средний запас сырья: 68.72\n",
            "Средний запас предсказанного сырья: 68.73\n",
            "RMSE: 0.89\n",
            "Коэффициент детерминации: 1.0\n"
          ]
        }
      ],
      "source": [
        "predict_1 = model_predict(features_train_1, target_train_1, features_valid_1, target_valid_1)\n"
      ]
    },
    {
      "cell_type": "markdown",
      "metadata": {
        "id": "8BHvrTlBeQIC"
      },
      "source": [
        "Для третьего."
      ]
    },
    {
      "cell_type": "code",
      "execution_count": null,
      "metadata": {
        "colab": {
          "base_uri": "https://localhost:8080/"
        },
        "id": "zRfweDlDdsve",
        "outputId": "530d49a0-91b4-4feb-8d32-f94f20bd5511",
        "trusted": false
      },
      "outputs": [
        {
          "output_type": "stream",
          "name": "stdout",
          "text": [
            "Средний запас сырья: 94.88\n",
            "Средний запас предсказанного сырья: 94.97\n",
            "RMSE: 40.03\n",
            "Коэффициент детерминации: 0.21\n"
          ]
        }
      ],
      "source": [
        "predict_2 = model_predict(features_train_2, target_train_2, features_valid_2, target_valid_2)\n"
      ]
    },
    {
      "cell_type": "markdown",
      "metadata": {
        "id": "ldM7ykabeR_Y"
      },
      "source": [
        "### Вывод"
      ]
    },
    {
      "cell_type": "markdown",
      "metadata": {
        "id": "Kh-Q46cVeVIP"
      },
      "source": [
        "* **Первый регион:** модель предсказала средний запас сырья 92.59, среднеквадратическая ошибка равна 37.58, а значение r2 = 0.28.\n",
        "* **Второй регион:** Средний запас предсказанного сырья - 68.73, коэффициент детерминации здесь равен единице, это говорит о том, что модель предсказывает ответы практически идеально, и RMSE должно быть близко к нулю(здесь 0.89).\n",
        "* **Третий регион:** здесь коэффициент детерминации даже ниже, чем в первой модели 0.21. Значение RMSE = 40.03. Средний запас сырья, который предсказала модель равен 94.97.\n",
        "\n",
        "Видим, что лучше всего модель сработала для второго датасета, для остальных показатели качества модели ниже. "
      ]
    },
    {
      "cell_type": "markdown",
      "metadata": {
        "id": "jWVNf4O8b9kZ"
      },
      "source": [
        "# Подготовимся к расчету прибыли"
      ]
    },
    {
      "cell_type": "markdown",
      "metadata": {
        "id": "E7TOS2KXdQX9"
      },
      "source": [
        "### Сохраним все ключевые значения для расчётов в отдельных переменных"
      ]
    },
    {
      "cell_type": "markdown",
      "metadata": {
        "id": "XHVNRaQqkAIi"
      },
      "source": [
        "При разведке региона исследуем 500 точек, из которых выберем 200 лучших для разработки.\n",
        "Бюджет на разработку скважин в регионе — 10 млрд рублей. При нынешних ценах один баррель сырья приносит 450 рублей дохода. Доход с каждой единицы продукта составляет 450 тыс. рублей, поскольку объём указан в тысячах баррелей.\n",
        "После оценки рисков оставим лишь те регионы, в которых вероятность убытков меньше 2.5%. Среди них выбирем регион с наибольшей средней прибылью."
      ]
    },
    {
      "cell_type": "code",
      "execution_count": null,
      "metadata": {
        "colab": {
          "base_uri": "https://localhost:8080/"
        },
        "id": "9VkTX6vrcBL9",
        "outputId": "6bd23e22-af63-4854-89ab-822b39096b82",
        "trusted": false
      },
      "outputs": [
        {
          "output_type": "stream",
          "name": "stdout",
          "text": [
            "1 регион:\n",
            "* предсказания модели: \"predict_0\"\n",
            "* правильные ответы: \"target_valid_0\"\n",
            "\n",
            "2 регион:\n",
            "* предсказания модели: \"predict_1\"\n",
            "* правильные ответы: \"target_valid_1\"\n",
            "\n",
            "3 регион:\n",
            "* предсказания модели: \"predict_2\"\n",
            "* правильные ответы: \"target_valid_2\"\n"
          ]
        }
      ],
      "source": [
        "print('1 регион:\\n* предсказания модели: \"predict_0\"\\n* правильные ответы: \"target_valid_0\"')\n",
        "print()\n",
        "print('2 регион:\\n* предсказания модели: \"predict_1\"\\n* правильные ответы: \"target_valid_1\"')\n",
        "print()\n",
        "print('3 регион:\\n* предсказания модели: \"predict_2\"\\n* правильные ответы: \"target_valid_2\"')"
      ]
    },
    {
      "cell_type": "markdown",
      "metadata": {
        "id": "2ixxelCnuOBz"
      },
      "source": [
        "Сохраним средние запасы сырья в каждом регионе."
      ]
    },
    {
      "cell_type": "code",
      "execution_count": null,
      "metadata": {
        "id": "QkZesu-ctW3r",
        "trusted": false
      },
      "outputs": [],
      "source": [
        "product_0 = data_0['product'].mean().round(2)\n",
        "product_1 = data_1['product'].mean().round(2)\n",
        "product_2 = data_2['product'].mean().round(2)"
      ]
    },
    {
      "cell_type": "code",
      "execution_count": null,
      "metadata": {
        "colab": {
          "base_uri": "https://localhost:8080/"
        },
        "id": "361bhTHosY5W",
        "outputId": "bec84f48-6701-44d0-fb7d-80ac0a3f6485",
        "trusted": false
      },
      "outputs": [
        {
          "output_type": "stream",
          "name": "stdout",
          "text": [
            "Cредний запас сырья в 1 регионе: 92.5 млн.баррелей\n",
            "Cредний запас сырья в 2 регионе: 68.83 млн.баррелей\n",
            "Cредний запас сырья в 3 регионе: 95.0 млн.баррелей\n"
          ]
        }
      ],
      "source": [
        "print(f'Cредний запас сырья в 1 регионе: {product_0} млн.баррелей')\n",
        "print(f'Cредний запас сырья в 2 регионе: {product_1} млн.баррелей')\n",
        "print(f'Cредний запас сырья в 3 регионе: {product_2} млн.баррелей')"
      ]
    },
    {
      "cell_type": "code",
      "execution_count": null,
      "metadata": {
        "colab": {
          "base_uri": "https://localhost:8080/"
        },
        "id": "3d_M4VLHkWqV",
        "outputId": "b46476c8-7399-4380-91ea-5ddd8b5ac5be",
        "trusted": false
      },
      "outputs": [
        {
          "output_type": "stream",
          "name": "stdout",
          "text": [
            "Бюджет на разработку одной скважины: 50.0 млн руб\n"
          ]
        }
      ],
      "source": [
        "BUDGET = 10_000_000 # бюджет на разработку скважин, тыс. руб\n",
        "REVENUE_PER_UNIT = 450 # доход с каждой единицы сырья, тыс. руб\n",
        "PROBABILITY_OF_LOSS = 2.5 / 100 # вероятность убытка\n",
        "BUDGET_FOR_ONE = BUDGET / 200 # бюджет на разработку одной скважины, тыс. руб\n",
        "print(f'Бюджет на разработку одной скважины: {BUDGET_FOR_ONE / 1000} млн руб')"
      ]
    },
    {
      "cell_type": "markdown",
      "metadata": {
        "id": "HZUMFZRFdYL8"
      },
      "source": [
        "### Рассчитаем достаточный объём сырья для безубыточной разработки новой скважины."
      ]
    },
    {
      "cell_type": "code",
      "execution_count": null,
      "metadata": {
        "id": "E-PFdPalRr4l",
        "trusted": false
      },
      "outputs": [],
      "source": [
        "v_prod = round(BUDGET_FOR_ONE / REVENUE_PER_UNIT, 2)"
      ]
    },
    {
      "cell_type": "code",
      "execution_count": null,
      "metadata": {
        "colab": {
          "base_uri": "https://localhost:8080/"
        },
        "id": "SV8-5L6ideu1",
        "outputId": "33ecd61e-ef25-4aeb-977e-b91346182235",
        "trusted": false
      },
      "outputs": [
        {
          "output_type": "stream",
          "name": "stdout",
          "text": [
            "Необходимый объем: 111.11 тыс баррелей\n"
          ]
        }
      ],
      "source": [
        "print(f'Необходимый объем: {v_prod} тыс баррелей')"
      ]
    },
    {
      "cell_type": "markdown",
      "metadata": {
        "id": "SvVgMjEYLIeP"
      },
      "source": [
        "### Сравним полученный объём сырья со средним запасом в каждом регионе. "
      ]
    },
    {
      "cell_type": "markdown",
      "metadata": {
        "id": "6a7xfGD6LeNj"
      },
      "source": [
        "Рассчитаем прибыль каждой скважины в каждом регионе."
      ]
    },
    {
      "cell_type": "code",
      "execution_count": null,
      "metadata": {
        "id": "f-lsDDY1MZRt",
        "trusted": false
      },
      "outputs": [],
      "source": [
        "def profit(data):\n",
        "  return (data['product'] * REVENUE_PER_UNIT).round(2)"
      ]
    },
    {
      "cell_type": "markdown",
      "metadata": {
        "id": "yH7fYeL6N-ss"
      },
      "source": [
        "Рассчитаем метрику ROI для каждого региона(в процентах)."
      ]
    },
    {
      "cell_type": "code",
      "execution_count": null,
      "metadata": {
        "id": "xByZbhC6OIk2",
        "trusted": false
      },
      "outputs": [],
      "source": [
        "def roi(data):\n",
        "  return ((data['profit'] - BUDGET_FOR_ONE) / BUDGET_FOR_ONE * 100).round(2)"
      ]
    },
    {
      "cell_type": "code",
      "execution_count": null,
      "metadata": {
        "colab": {
          "base_uri": "https://localhost:8080/",
          "height": 206
        },
        "id": "Jc-kIAu1LKbO",
        "outputId": "f0798934-59b4-49a1-b73a-d69b77f0d7cd",
        "trusted": false
      },
      "outputs": [
        {
          "output_type": "execute_result",
          "data": {
            "text/plain": [
              "      id        f0        f1        f2     product    profit    roi\n",
              "0  txEyH  0.705745 -0.497823  1.221170  105.280062  47376.03  -5.25\n",
              "1  2acmU  1.334711 -0.340164  4.365080   73.037750  32866.99 -34.27\n",
              "2  409Wp  1.022732  0.151990  1.419926   85.265647  38369.54 -23.26\n",
              "3  iJLyR -0.032172  0.139033  2.978566  168.620776  75879.35  51.76\n",
              "4  Xdl7t  1.988431  0.155413  4.751769  154.036647  69316.49  38.63"
            ],
            "text/html": [
              "\n",
              "  <div id=\"df-39397587-11f4-4f1a-aaaf-4fb249d879eb\">\n",
              "    <div class=\"colab-df-container\">\n",
              "      <div>\n",
              "<style scoped>\n",
              "    .dataframe tbody tr th:only-of-type {\n",
              "        vertical-align: middle;\n",
              "    }\n",
              "\n",
              "    .dataframe tbody tr th {\n",
              "        vertical-align: top;\n",
              "    }\n",
              "\n",
              "    .dataframe thead th {\n",
              "        text-align: right;\n",
              "    }\n",
              "</style>\n",
              "<table border=\"1\" class=\"dataframe\">\n",
              "  <thead>\n",
              "    <tr style=\"text-align: right;\">\n",
              "      <th></th>\n",
              "      <th>id</th>\n",
              "      <th>f0</th>\n",
              "      <th>f1</th>\n",
              "      <th>f2</th>\n",
              "      <th>product</th>\n",
              "      <th>profit</th>\n",
              "      <th>roi</th>\n",
              "    </tr>\n",
              "  </thead>\n",
              "  <tbody>\n",
              "    <tr>\n",
              "      <th>0</th>\n",
              "      <td>txEyH</td>\n",
              "      <td>0.705745</td>\n",
              "      <td>-0.497823</td>\n",
              "      <td>1.221170</td>\n",
              "      <td>105.280062</td>\n",
              "      <td>47376.03</td>\n",
              "      <td>-5.25</td>\n",
              "    </tr>\n",
              "    <tr>\n",
              "      <th>1</th>\n",
              "      <td>2acmU</td>\n",
              "      <td>1.334711</td>\n",
              "      <td>-0.340164</td>\n",
              "      <td>4.365080</td>\n",
              "      <td>73.037750</td>\n",
              "      <td>32866.99</td>\n",
              "      <td>-34.27</td>\n",
              "    </tr>\n",
              "    <tr>\n",
              "      <th>2</th>\n",
              "      <td>409Wp</td>\n",
              "      <td>1.022732</td>\n",
              "      <td>0.151990</td>\n",
              "      <td>1.419926</td>\n",
              "      <td>85.265647</td>\n",
              "      <td>38369.54</td>\n",
              "      <td>-23.26</td>\n",
              "    </tr>\n",
              "    <tr>\n",
              "      <th>3</th>\n",
              "      <td>iJLyR</td>\n",
              "      <td>-0.032172</td>\n",
              "      <td>0.139033</td>\n",
              "      <td>2.978566</td>\n",
              "      <td>168.620776</td>\n",
              "      <td>75879.35</td>\n",
              "      <td>51.76</td>\n",
              "    </tr>\n",
              "    <tr>\n",
              "      <th>4</th>\n",
              "      <td>Xdl7t</td>\n",
              "      <td>1.988431</td>\n",
              "      <td>0.155413</td>\n",
              "      <td>4.751769</td>\n",
              "      <td>154.036647</td>\n",
              "      <td>69316.49</td>\n",
              "      <td>38.63</td>\n",
              "    </tr>\n",
              "  </tbody>\n",
              "</table>\n",
              "</div>\n",
              "      <button class=\"colab-df-convert\" onclick=\"convertToInteractive('df-39397587-11f4-4f1a-aaaf-4fb249d879eb')\"\n",
              "              title=\"Convert this dataframe to an interactive table.\"\n",
              "              style=\"display:none;\">\n",
              "        \n",
              "  <svg xmlns=\"http://www.w3.org/2000/svg\" height=\"24px\"viewBox=\"0 0 24 24\"\n",
              "       width=\"24px\">\n",
              "    <path d=\"M0 0h24v24H0V0z\" fill=\"none\"/>\n",
              "    <path d=\"M18.56 5.44l.94 2.06.94-2.06 2.06-.94-2.06-.94-.94-2.06-.94 2.06-2.06.94zm-11 1L8.5 8.5l.94-2.06 2.06-.94-2.06-.94L8.5 2.5l-.94 2.06-2.06.94zm10 10l.94 2.06.94-2.06 2.06-.94-2.06-.94-.94-2.06-.94 2.06-2.06.94z\"/><path d=\"M17.41 7.96l-1.37-1.37c-.4-.4-.92-.59-1.43-.59-.52 0-1.04.2-1.43.59L10.3 9.45l-7.72 7.72c-.78.78-.78 2.05 0 2.83L4 21.41c.39.39.9.59 1.41.59.51 0 1.02-.2 1.41-.59l7.78-7.78 2.81-2.81c.8-.78.8-2.07 0-2.86zM5.41 20L4 18.59l7.72-7.72 1.47 1.35L5.41 20z\"/>\n",
              "  </svg>\n",
              "      </button>\n",
              "      \n",
              "  <style>\n",
              "    .colab-df-container {\n",
              "      display:flex;\n",
              "      flex-wrap:wrap;\n",
              "      gap: 12px;\n",
              "    }\n",
              "\n",
              "    .colab-df-convert {\n",
              "      background-color: #E8F0FE;\n",
              "      border: none;\n",
              "      border-radius: 50%;\n",
              "      cursor: pointer;\n",
              "      display: none;\n",
              "      fill: #1967D2;\n",
              "      height: 32px;\n",
              "      padding: 0 0 0 0;\n",
              "      width: 32px;\n",
              "    }\n",
              "\n",
              "    .colab-df-convert:hover {\n",
              "      background-color: #E2EBFA;\n",
              "      box-shadow: 0px 1px 2px rgba(60, 64, 67, 0.3), 0px 1px 3px 1px rgba(60, 64, 67, 0.15);\n",
              "      fill: #174EA6;\n",
              "    }\n",
              "\n",
              "    [theme=dark] .colab-df-convert {\n",
              "      background-color: #3B4455;\n",
              "      fill: #D2E3FC;\n",
              "    }\n",
              "\n",
              "    [theme=dark] .colab-df-convert:hover {\n",
              "      background-color: #434B5C;\n",
              "      box-shadow: 0px 1px 3px 1px rgba(0, 0, 0, 0.15);\n",
              "      filter: drop-shadow(0px 1px 2px rgba(0, 0, 0, 0.3));\n",
              "      fill: #FFFFFF;\n",
              "    }\n",
              "  </style>\n",
              "\n",
              "      <script>\n",
              "        const buttonEl =\n",
              "          document.querySelector('#df-39397587-11f4-4f1a-aaaf-4fb249d879eb button.colab-df-convert');\n",
              "        buttonEl.style.display =\n",
              "          google.colab.kernel.accessAllowed ? 'block' : 'none';\n",
              "\n",
              "        async function convertToInteractive(key) {\n",
              "          const element = document.querySelector('#df-39397587-11f4-4f1a-aaaf-4fb249d879eb');\n",
              "          const dataTable =\n",
              "            await google.colab.kernel.invokeFunction('convertToInteractive',\n",
              "                                                     [key], {});\n",
              "          if (!dataTable) return;\n",
              "\n",
              "          const docLinkHtml = 'Like what you see? Visit the ' +\n",
              "            '<a target=\"_blank\" href=https://colab.research.google.com/notebooks/data_table.ipynb>data table notebook</a>'\n",
              "            + ' to learn more about interactive tables.';\n",
              "          element.innerHTML = '';\n",
              "          dataTable['output_type'] = 'display_data';\n",
              "          await google.colab.output.renderOutput(dataTable, element);\n",
              "          const docLink = document.createElement('div');\n",
              "          docLink.innerHTML = docLinkHtml;\n",
              "          element.appendChild(docLink);\n",
              "        }\n",
              "      </script>\n",
              "    </div>\n",
              "  </div>\n",
              "  "
            ]
          },
          "metadata": {},
          "execution_count": 55
        }
      ],
      "source": [
        "data_0['profit'] = profit(data_0)\n",
        "data_0['roi'] = roi(data_0)\n",
        "\n",
        "data_0.head()"
      ]
    },
    {
      "cell_type": "markdown",
      "metadata": {
        "id": "jsIT_9aeS1By"
      },
      "source": [
        "Посмотрим сколько в среднем вложений по первому региону пока не окупилось."
      ]
    },
    {
      "cell_type": "code",
      "execution_count": null,
      "metadata": {
        "colab": {
          "base_uri": "https://localhost:8080/"
        },
        "id": "WUr6VE_0S8Ph",
        "outputId": "c2b40d48-3263-44d6-f8b1-ced0364a9b40",
        "trusted": false
      },
      "outputs": [
        {
          "output_type": "stream",
          "name": "stdout",
          "text": [
            "Среднее значение ROI -16.75%\n"
          ]
        }
      ],
      "source": [
        "print('Среднее значение ROI ', data_0['roi'].mean().round(2), '%', sep='')"
      ]
    },
    {
      "cell_type": "code",
      "execution_count": null,
      "metadata": {
        "colab": {
          "base_uri": "https://localhost:8080/"
        },
        "id": "W59-oXaec7zj",
        "outputId": "197ae38d-aec2-4531-fe46-47e377d87723",
        "trusted": false
      },
      "outputs": [
        {
          "output_type": "stream",
          "name": "stdout",
          "text": [
            "Для безубыточной разработки скважины в среднем не хватает 18.61 тыс баррелей\n"
          ]
        }
      ],
      "source": [
        "print('Для безубыточной разработки скважины в среднем не хватает', v_prod - product_0, 'тыс баррелей')"
      ]
    },
    {
      "cell_type": "code",
      "execution_count": null,
      "metadata": {
        "colab": {
          "base_uri": "https://localhost:8080/",
          "height": 206
        },
        "id": "2cR8zXuGMr2F",
        "outputId": "b4b431c1-daf9-4f80-b9c9-5ca0a5c53fca",
        "trusted": false
      },
      "outputs": [
        {
          "output_type": "execute_result",
          "data": {
            "text/plain": [
              "      id         f0         f1        f2     product    profit    roi\n",
              "0  kBEdx -15.001348  -8.276000 -0.005876    3.179103   1430.60 -97.14\n",
              "1  62mP7  14.272088  -3.475083  0.999183   26.953261  12128.97 -75.74\n",
              "2  vyE1P   6.263187  -5.948386  5.001160  134.766305  60644.84  21.29\n",
              "3  KcrkZ -13.081196 -11.506057  4.999415  137.945408  62075.43  24.15\n",
              "4  AHL4O  12.702195  -8.147433  5.004363  134.766305  60644.84  21.29"
            ],
            "text/html": [
              "\n",
              "  <div id=\"df-493ccefc-9bcc-492e-a83c-9733c6c46de8\">\n",
              "    <div class=\"colab-df-container\">\n",
              "      <div>\n",
              "<style scoped>\n",
              "    .dataframe tbody tr th:only-of-type {\n",
              "        vertical-align: middle;\n",
              "    }\n",
              "\n",
              "    .dataframe tbody tr th {\n",
              "        vertical-align: top;\n",
              "    }\n",
              "\n",
              "    .dataframe thead th {\n",
              "        text-align: right;\n",
              "    }\n",
              "</style>\n",
              "<table border=\"1\" class=\"dataframe\">\n",
              "  <thead>\n",
              "    <tr style=\"text-align: right;\">\n",
              "      <th></th>\n",
              "      <th>id</th>\n",
              "      <th>f0</th>\n",
              "      <th>f1</th>\n",
              "      <th>f2</th>\n",
              "      <th>product</th>\n",
              "      <th>profit</th>\n",
              "      <th>roi</th>\n",
              "    </tr>\n",
              "  </thead>\n",
              "  <tbody>\n",
              "    <tr>\n",
              "      <th>0</th>\n",
              "      <td>kBEdx</td>\n",
              "      <td>-15.001348</td>\n",
              "      <td>-8.276000</td>\n",
              "      <td>-0.005876</td>\n",
              "      <td>3.179103</td>\n",
              "      <td>1430.60</td>\n",
              "      <td>-97.14</td>\n",
              "    </tr>\n",
              "    <tr>\n",
              "      <th>1</th>\n",
              "      <td>62mP7</td>\n",
              "      <td>14.272088</td>\n",
              "      <td>-3.475083</td>\n",
              "      <td>0.999183</td>\n",
              "      <td>26.953261</td>\n",
              "      <td>12128.97</td>\n",
              "      <td>-75.74</td>\n",
              "    </tr>\n",
              "    <tr>\n",
              "      <th>2</th>\n",
              "      <td>vyE1P</td>\n",
              "      <td>6.263187</td>\n",
              "      <td>-5.948386</td>\n",
              "      <td>5.001160</td>\n",
              "      <td>134.766305</td>\n",
              "      <td>60644.84</td>\n",
              "      <td>21.29</td>\n",
              "    </tr>\n",
              "    <tr>\n",
              "      <th>3</th>\n",
              "      <td>KcrkZ</td>\n",
              "      <td>-13.081196</td>\n",
              "      <td>-11.506057</td>\n",
              "      <td>4.999415</td>\n",
              "      <td>137.945408</td>\n",
              "      <td>62075.43</td>\n",
              "      <td>24.15</td>\n",
              "    </tr>\n",
              "    <tr>\n",
              "      <th>4</th>\n",
              "      <td>AHL4O</td>\n",
              "      <td>12.702195</td>\n",
              "      <td>-8.147433</td>\n",
              "      <td>5.004363</td>\n",
              "      <td>134.766305</td>\n",
              "      <td>60644.84</td>\n",
              "      <td>21.29</td>\n",
              "    </tr>\n",
              "  </tbody>\n",
              "</table>\n",
              "</div>\n",
              "      <button class=\"colab-df-convert\" onclick=\"convertToInteractive('df-493ccefc-9bcc-492e-a83c-9733c6c46de8')\"\n",
              "              title=\"Convert this dataframe to an interactive table.\"\n",
              "              style=\"display:none;\">\n",
              "        \n",
              "  <svg xmlns=\"http://www.w3.org/2000/svg\" height=\"24px\"viewBox=\"0 0 24 24\"\n",
              "       width=\"24px\">\n",
              "    <path d=\"M0 0h24v24H0V0z\" fill=\"none\"/>\n",
              "    <path d=\"M18.56 5.44l.94 2.06.94-2.06 2.06-.94-2.06-.94-.94-2.06-.94 2.06-2.06.94zm-11 1L8.5 8.5l.94-2.06 2.06-.94-2.06-.94L8.5 2.5l-.94 2.06-2.06.94zm10 10l.94 2.06.94-2.06 2.06-.94-2.06-.94-.94-2.06-.94 2.06-2.06.94z\"/><path d=\"M17.41 7.96l-1.37-1.37c-.4-.4-.92-.59-1.43-.59-.52 0-1.04.2-1.43.59L10.3 9.45l-7.72 7.72c-.78.78-.78 2.05 0 2.83L4 21.41c.39.39.9.59 1.41.59.51 0 1.02-.2 1.41-.59l7.78-7.78 2.81-2.81c.8-.78.8-2.07 0-2.86zM5.41 20L4 18.59l7.72-7.72 1.47 1.35L5.41 20z\"/>\n",
              "  </svg>\n",
              "      </button>\n",
              "      \n",
              "  <style>\n",
              "    .colab-df-container {\n",
              "      display:flex;\n",
              "      flex-wrap:wrap;\n",
              "      gap: 12px;\n",
              "    }\n",
              "\n",
              "    .colab-df-convert {\n",
              "      background-color: #E8F0FE;\n",
              "      border: none;\n",
              "      border-radius: 50%;\n",
              "      cursor: pointer;\n",
              "      display: none;\n",
              "      fill: #1967D2;\n",
              "      height: 32px;\n",
              "      padding: 0 0 0 0;\n",
              "      width: 32px;\n",
              "    }\n",
              "\n",
              "    .colab-df-convert:hover {\n",
              "      background-color: #E2EBFA;\n",
              "      box-shadow: 0px 1px 2px rgba(60, 64, 67, 0.3), 0px 1px 3px 1px rgba(60, 64, 67, 0.15);\n",
              "      fill: #174EA6;\n",
              "    }\n",
              "\n",
              "    [theme=dark] .colab-df-convert {\n",
              "      background-color: #3B4455;\n",
              "      fill: #D2E3FC;\n",
              "    }\n",
              "\n",
              "    [theme=dark] .colab-df-convert:hover {\n",
              "      background-color: #434B5C;\n",
              "      box-shadow: 0px 1px 3px 1px rgba(0, 0, 0, 0.15);\n",
              "      filter: drop-shadow(0px 1px 2px rgba(0, 0, 0, 0.3));\n",
              "      fill: #FFFFFF;\n",
              "    }\n",
              "  </style>\n",
              "\n",
              "      <script>\n",
              "        const buttonEl =\n",
              "          document.querySelector('#df-493ccefc-9bcc-492e-a83c-9733c6c46de8 button.colab-df-convert');\n",
              "        buttonEl.style.display =\n",
              "          google.colab.kernel.accessAllowed ? 'block' : 'none';\n",
              "\n",
              "        async function convertToInteractive(key) {\n",
              "          const element = document.querySelector('#df-493ccefc-9bcc-492e-a83c-9733c6c46de8');\n",
              "          const dataTable =\n",
              "            await google.colab.kernel.invokeFunction('convertToInteractive',\n",
              "                                                     [key], {});\n",
              "          if (!dataTable) return;\n",
              "\n",
              "          const docLinkHtml = 'Like what you see? Visit the ' +\n",
              "            '<a target=\"_blank\" href=https://colab.research.google.com/notebooks/data_table.ipynb>data table notebook</a>'\n",
              "            + ' to learn more about interactive tables.';\n",
              "          element.innerHTML = '';\n",
              "          dataTable['output_type'] = 'display_data';\n",
              "          await google.colab.output.renderOutput(dataTable, element);\n",
              "          const docLink = document.createElement('div');\n",
              "          docLink.innerHTML = docLinkHtml;\n",
              "          element.appendChild(docLink);\n",
              "        }\n",
              "      </script>\n",
              "    </div>\n",
              "  </div>\n",
              "  "
            ]
          },
          "metadata": {},
          "execution_count": 58
        }
      ],
      "source": [
        "data_1['profit'] = profit(data_1)\n",
        "data_1['roi'] = roi(data_1)\n",
        "\n",
        "data_1.head()"
      ]
    },
    {
      "cell_type": "code",
      "execution_count": null,
      "metadata": {
        "colab": {
          "base_uri": "https://localhost:8080/"
        },
        "id": "whvA38mqebLf",
        "outputId": "1e74dcb7-4a46-4a40-df3b-209b6fd93b42",
        "trusted": false
      },
      "outputs": [
        {
          "output_type": "stream",
          "name": "stdout",
          "text": [
            "Среднее значение ROI -38.06%\n",
            "Для безубыточной разработки скважины в среднем не хватает 42.28 тыс баррелей\n"
          ]
        }
      ],
      "source": [
        "print('Среднее значение ROI ', data_1['roi'].mean().round(2), '%', sep='')\n",
        "print('Для безубыточной разработки скважины в среднем не хватает', v_prod - product_1, 'тыс баррелей')\n"
      ]
    },
    {
      "cell_type": "code",
      "execution_count": null,
      "metadata": {
        "colab": {
          "base_uri": "https://localhost:8080/",
          "height": 206
        },
        "id": "yTYuBWipNLfu",
        "outputId": "4e982dd0-74c2-4896-8c16-fad459a90bae",
        "trusted": false
      },
      "outputs": [
        {
          "output_type": "execute_result",
          "data": {
            "text/plain": [
              "      id        f0        f1        f2     product    profit    roi\n",
              "0  fwXo0 -1.146987  0.963328 -0.828965   27.758673  12491.40 -75.02\n",
              "1  WJtFt  0.262778  0.269839 -2.530187   56.069697  25231.36 -49.54\n",
              "2  ovLUW  0.194587  0.289035 -5.586433   62.871910  28292.36 -43.42\n",
              "3  q6cA6  2.236060 -0.553760  0.930038  114.572842  51557.78   3.12\n",
              "4  WPMUX -0.515993  1.716266  5.899011  149.600746  67320.34  34.64"
            ],
            "text/html": [
              "\n",
              "  <div id=\"df-25741350-2f48-47ee-be93-18da7cd9fa3a\">\n",
              "    <div class=\"colab-df-container\">\n",
              "      <div>\n",
              "<style scoped>\n",
              "    .dataframe tbody tr th:only-of-type {\n",
              "        vertical-align: middle;\n",
              "    }\n",
              "\n",
              "    .dataframe tbody tr th {\n",
              "        vertical-align: top;\n",
              "    }\n",
              "\n",
              "    .dataframe thead th {\n",
              "        text-align: right;\n",
              "    }\n",
              "</style>\n",
              "<table border=\"1\" class=\"dataframe\">\n",
              "  <thead>\n",
              "    <tr style=\"text-align: right;\">\n",
              "      <th></th>\n",
              "      <th>id</th>\n",
              "      <th>f0</th>\n",
              "      <th>f1</th>\n",
              "      <th>f2</th>\n",
              "      <th>product</th>\n",
              "      <th>profit</th>\n",
              "      <th>roi</th>\n",
              "    </tr>\n",
              "  </thead>\n",
              "  <tbody>\n",
              "    <tr>\n",
              "      <th>0</th>\n",
              "      <td>fwXo0</td>\n",
              "      <td>-1.146987</td>\n",
              "      <td>0.963328</td>\n",
              "      <td>-0.828965</td>\n",
              "      <td>27.758673</td>\n",
              "      <td>12491.40</td>\n",
              "      <td>-75.02</td>\n",
              "    </tr>\n",
              "    <tr>\n",
              "      <th>1</th>\n",
              "      <td>WJtFt</td>\n",
              "      <td>0.262778</td>\n",
              "      <td>0.269839</td>\n",
              "      <td>-2.530187</td>\n",
              "      <td>56.069697</td>\n",
              "      <td>25231.36</td>\n",
              "      <td>-49.54</td>\n",
              "    </tr>\n",
              "    <tr>\n",
              "      <th>2</th>\n",
              "      <td>ovLUW</td>\n",
              "      <td>0.194587</td>\n",
              "      <td>0.289035</td>\n",
              "      <td>-5.586433</td>\n",
              "      <td>62.871910</td>\n",
              "      <td>28292.36</td>\n",
              "      <td>-43.42</td>\n",
              "    </tr>\n",
              "    <tr>\n",
              "      <th>3</th>\n",
              "      <td>q6cA6</td>\n",
              "      <td>2.236060</td>\n",
              "      <td>-0.553760</td>\n",
              "      <td>0.930038</td>\n",
              "      <td>114.572842</td>\n",
              "      <td>51557.78</td>\n",
              "      <td>3.12</td>\n",
              "    </tr>\n",
              "    <tr>\n",
              "      <th>4</th>\n",
              "      <td>WPMUX</td>\n",
              "      <td>-0.515993</td>\n",
              "      <td>1.716266</td>\n",
              "      <td>5.899011</td>\n",
              "      <td>149.600746</td>\n",
              "      <td>67320.34</td>\n",
              "      <td>34.64</td>\n",
              "    </tr>\n",
              "  </tbody>\n",
              "</table>\n",
              "</div>\n",
              "      <button class=\"colab-df-convert\" onclick=\"convertToInteractive('df-25741350-2f48-47ee-be93-18da7cd9fa3a')\"\n",
              "              title=\"Convert this dataframe to an interactive table.\"\n",
              "              style=\"display:none;\">\n",
              "        \n",
              "  <svg xmlns=\"http://www.w3.org/2000/svg\" height=\"24px\"viewBox=\"0 0 24 24\"\n",
              "       width=\"24px\">\n",
              "    <path d=\"M0 0h24v24H0V0z\" fill=\"none\"/>\n",
              "    <path d=\"M18.56 5.44l.94 2.06.94-2.06 2.06-.94-2.06-.94-.94-2.06-.94 2.06-2.06.94zm-11 1L8.5 8.5l.94-2.06 2.06-.94-2.06-.94L8.5 2.5l-.94 2.06-2.06.94zm10 10l.94 2.06.94-2.06 2.06-.94-2.06-.94-.94-2.06-.94 2.06-2.06.94z\"/><path d=\"M17.41 7.96l-1.37-1.37c-.4-.4-.92-.59-1.43-.59-.52 0-1.04.2-1.43.59L10.3 9.45l-7.72 7.72c-.78.78-.78 2.05 0 2.83L4 21.41c.39.39.9.59 1.41.59.51 0 1.02-.2 1.41-.59l7.78-7.78 2.81-2.81c.8-.78.8-2.07 0-2.86zM5.41 20L4 18.59l7.72-7.72 1.47 1.35L5.41 20z\"/>\n",
              "  </svg>\n",
              "      </button>\n",
              "      \n",
              "  <style>\n",
              "    .colab-df-container {\n",
              "      display:flex;\n",
              "      flex-wrap:wrap;\n",
              "      gap: 12px;\n",
              "    }\n",
              "\n",
              "    .colab-df-convert {\n",
              "      background-color: #E8F0FE;\n",
              "      border: none;\n",
              "      border-radius: 50%;\n",
              "      cursor: pointer;\n",
              "      display: none;\n",
              "      fill: #1967D2;\n",
              "      height: 32px;\n",
              "      padding: 0 0 0 0;\n",
              "      width: 32px;\n",
              "    }\n",
              "\n",
              "    .colab-df-convert:hover {\n",
              "      background-color: #E2EBFA;\n",
              "      box-shadow: 0px 1px 2px rgba(60, 64, 67, 0.3), 0px 1px 3px 1px rgba(60, 64, 67, 0.15);\n",
              "      fill: #174EA6;\n",
              "    }\n",
              "\n",
              "    [theme=dark] .colab-df-convert {\n",
              "      background-color: #3B4455;\n",
              "      fill: #D2E3FC;\n",
              "    }\n",
              "\n",
              "    [theme=dark] .colab-df-convert:hover {\n",
              "      background-color: #434B5C;\n",
              "      box-shadow: 0px 1px 3px 1px rgba(0, 0, 0, 0.15);\n",
              "      filter: drop-shadow(0px 1px 2px rgba(0, 0, 0, 0.3));\n",
              "      fill: #FFFFFF;\n",
              "    }\n",
              "  </style>\n",
              "\n",
              "      <script>\n",
              "        const buttonEl =\n",
              "          document.querySelector('#df-25741350-2f48-47ee-be93-18da7cd9fa3a button.colab-df-convert');\n",
              "        buttonEl.style.display =\n",
              "          google.colab.kernel.accessAllowed ? 'block' : 'none';\n",
              "\n",
              "        async function convertToInteractive(key) {\n",
              "          const element = document.querySelector('#df-25741350-2f48-47ee-be93-18da7cd9fa3a');\n",
              "          const dataTable =\n",
              "            await google.colab.kernel.invokeFunction('convertToInteractive',\n",
              "                                                     [key], {});\n",
              "          if (!dataTable) return;\n",
              "\n",
              "          const docLinkHtml = 'Like what you see? Visit the ' +\n",
              "            '<a target=\"_blank\" href=https://colab.research.google.com/notebooks/data_table.ipynb>data table notebook</a>'\n",
              "            + ' to learn more about interactive tables.';\n",
              "          element.innerHTML = '';\n",
              "          dataTable['output_type'] = 'display_data';\n",
              "          await google.colab.output.renderOutput(dataTable, element);\n",
              "          const docLink = document.createElement('div');\n",
              "          docLink.innerHTML = docLinkHtml;\n",
              "          element.appendChild(docLink);\n",
              "        }\n",
              "      </script>\n",
              "    </div>\n",
              "  </div>\n",
              "  "
            ]
          },
          "metadata": {},
          "execution_count": 60
        }
      ],
      "source": [
        "data_2['profit'] = profit(data_2)\n",
        "data_2['roi'] = roi(data_2)\n",
        "\n",
        "data_2.head()"
      ]
    },
    {
      "cell_type": "code",
      "execution_count": null,
      "metadata": {
        "colab": {
          "base_uri": "https://localhost:8080/"
        },
        "id": "2N2i2XhyeiGE",
        "outputId": "8612020a-cf9c-4f40-b6f2-130ea4cfe269",
        "trusted": false
      },
      "outputs": [
        {
          "output_type": "stream",
          "name": "stdout",
          "text": [
            "Среднее значение ROI -14.5%\n",
            "Для безубыточной разработки скважины в среднем не хватает 16.11 тыс баррелей\n"
          ]
        }
      ],
      "source": [
        "print('Среднее значение ROI ', data_2['roi'].mean().round(2), '%', sep='')\n",
        "print('Для безубыточной разработки скважины в среднем не хватает', v_prod - product_2, 'тыс баррелей')"
      ]
    },
    {
      "cell_type": "markdown",
      "metadata": {
        "id": "-Mb_syfldhb7"
      },
      "source": [
        "### Выводы по этапу подготовки расчёта прибыли"
      ]
    },
    {
      "cell_type": "markdown",
      "metadata": {
        "id": "b06X8R5RwOYQ"
      },
      "source": [
        "Для разработки одной скважины необходимо 50 млн рублей. Чтобы новая скважина была безубыточной, объем ее должен быть не менее 111 тыс баррелей. В уже имеющихся скважинах средний объем меньше необходимого, во втором регионе самый низкий показатель - 68.83. Наибольшие показатели в первом регионе."
      ]
    },
    {
      "cell_type": "markdown",
      "metadata": {
        "id": "ldbzhzXFcLLn"
      },
      "source": [
        "# Напишем функцию для расчёта прибыли по выбранным скважинам и предсказаниям модели"
      ]
    },
    {
      "cell_type": "markdown",
      "metadata": {
        "id": "w_KLaYGeduWa"
      },
      "source": [
        "### Выберем скважины с максимальными значениями предсказаний"
      ]
    },
    {
      "cell_type": "markdown",
      "metadata": {
        "id": "Wwr59eZIiK8A"
      },
      "source": [
        "Рассмотрим первый регион. Выберем 200 скважин, у которых наибольшее предсказание."
      ]
    },
    {
      "cell_type": "code",
      "execution_count": null,
      "metadata": {
        "colab": {
          "base_uri": "https://localhost:8080/"
        },
        "id": "rqbJFaOCcO52",
        "outputId": "30e480d8-bc43-418d-d60f-18490d29f54d",
        "trusted": false
      },
      "outputs": [
        {
          "output_type": "execute_result",
          "data": {
            "text/plain": [
              "93073    180.180713\n",
              "46784    176.252213\n",
              "78948    175.850623\n",
              "43388    175.658429\n",
              "6496     173.299686\n",
              "            ...    \n",
              "30488    148.507064\n",
              "98799    148.481767\n",
              "53840    148.476498\n",
              "4638     148.436761\n",
              "75908    148.365941\n",
              "Length: 200, dtype: float64"
            ]
          },
          "metadata": {},
          "execution_count": 62
        }
      ],
      "source": [
        "wells_max = pd.Series(predict_0, index=target_valid_0.index).sort_values(ascending=False)[:200]\n",
        "wells_max"
      ]
    },
    {
      "cell_type": "markdown",
      "metadata": {
        "id": "mfYuL8bxd3AZ"
      },
      "source": [
        "### Просуммируем целевое значение объёма сырья, соответствующее этим предсказаниям"
      ]
    },
    {
      "cell_type": "code",
      "execution_count": null,
      "metadata": {
        "colab": {
          "base_uri": "https://localhost:8080/"
        },
        "id": "PvInBm7Ud9CB",
        "outputId": "9f18f362-a354-4643-ea29-3469f8baccac",
        "trusted": false
      },
      "outputs": [
        {
          "output_type": "stream",
          "name": "stdout",
          "text": [
            "Суммарное значение объема сырья в 200 лучших скважин: 31102.33 тыс баррелей\n"
          ]
        }
      ],
      "source": [
        "print(f'Суммарное значение объема сырья в 200 лучших скважин: {wells_max.sum().round(2)} тыс баррелей')"
      ]
    },
    {
      "cell_type": "markdown",
      "metadata": {
        "id": "6E9rVvSsd9Yn"
      },
      "source": [
        "### Рассчитаем прибыль для полученного объёма сырья"
      ]
    },
    {
      "cell_type": "code",
      "source": [
        "wells_revenue = pd.Series(data_0['product'], index=wells_max.index)"
      ],
      "metadata": {
        "id": "yGVI0UdsOYUc"
      },
      "execution_count": null,
      "outputs": []
    },
    {
      "cell_type": "code",
      "execution_count": null,
      "metadata": {
        "colab": {
          "base_uri": "https://localhost:8080/"
        },
        "id": "7Nq-fMrzkWe2",
        "outputId": "e987ca56-cbd4-46ce-f143-8b2b3782be3c",
        "trusted": false
      },
      "outputs": [
        {
          "output_type": "stream",
          "name": "stdout",
          "text": [
            "Прибыль для полученного объема сырья: 3320.82604 млн руб\n"
          ]
        }
      ],
      "source": [
        "print(f'Прибыль для полученного объема сырья: {(REVENUE_PER_UNIT * wells_revenue.sum() - BUDGET).round(2) / 1000} млн руб')\n"
      ]
    },
    {
      "cell_type": "markdown",
      "metadata": {
        "id": "Hj8sGLmwoygF"
      },
      "source": [
        "### Напишем функцию для расчета прибыль в остальных регионах"
      ]
    },
    {
      "cell_type": "code",
      "source": [
        "def revenue(data, predict, target, count, k):\n",
        "    probs_sorted = pd.Series(predict, index=target.index).sort_values(ascending=False)[:count]\n",
        "    selected = pd.Series(data['product'], index=probs_sorted.index)\n",
        "    if k == 0:\n",
        "       print(f'Суммарное значение объема сырья в 200 лучших скважин: {probs_sorted.sum().round(2)} тыс баррелей')\n",
        "       print(f'Прибыль для полученного объема сырья: {((REVENUE_PER_UNIT * selected.sum() - BUDGET) / 1000).round(2)} млн руб')\n",
        "    else:\n",
        "      return (REVENUE_PER_UNIT * selected.sum() - round(BUDGET, 2))"
      ],
      "metadata": {
        "id": "PXfowiT36XeD"
      },
      "execution_count": null,
      "outputs": []
    },
    {
      "cell_type": "code",
      "execution_count": null,
      "metadata": {
        "colab": {
          "base_uri": "https://localhost:8080/"
        },
        "id": "l5N_kc28n5bt",
        "outputId": "d4ae0c6c-7f7a-40a0-c029-cdc38fdef46a",
        "trusted": false
      },
      "outputs": [
        {
          "output_type": "stream",
          "name": "stdout",
          "text": [
            "Суммарное значение объема сырья в 200 лучших скважин: 31102.33 тыс баррелей\n",
            "Прибыль для полученного объема сырья: 3320.83 млн руб\n"
          ]
        }
      ],
      "source": [
        "revenue(data_0, predict_0, target_valid_0, 200, 0)"
      ]
    },
    {
      "cell_type": "code",
      "execution_count": null,
      "metadata": {
        "colab": {
          "base_uri": "https://localhost:8080/"
        },
        "id": "9ui1z3zAoKYj",
        "outputId": "53632c3b-dad5-4aef-a6d7-701281cea5a9",
        "trusted": false
      },
      "outputs": [
        {
          "output_type": "stream",
          "name": "stdout",
          "text": [
            "Суммарное значение объема сырья в 200 лучших скважин: 27746.03 тыс баррелей\n",
            "Прибыль для полученного объема сырья: 2415.09 млн руб\n"
          ]
        }
      ],
      "source": [
        "revenue(data_1, predict_1, target_valid_1, 200, 0)"
      ]
    },
    {
      "cell_type": "code",
      "execution_count": null,
      "metadata": {
        "colab": {
          "base_uri": "https://localhost:8080/"
        },
        "id": "tQo3MjnUoVBh",
        "outputId": "8bc0a05d-3910-4ded-82a9-c19bc0d46086",
        "trusted": false
      },
      "outputs": [
        {
          "output_type": "stream",
          "name": "stdout",
          "text": [
            "Суммарное значение объема сырья в 200 лучших скважин: 29603.9 тыс баррелей\n",
            "Прибыль для полученного объема сырья: 2710.35 млн руб\n"
          ]
        }
      ],
      "source": [
        "revenue(data_2, predict_2, target_valid_2, 200, 0)"
      ]
    },
    {
      "cell_type": "markdown",
      "metadata": {
        "id": "a8FirEJkq-go"
      },
      "source": [
        "Наибольший объем сырья по предсказаниям получается в первом регионе 31 102 тыс баррелей, а прибыль составляет почти 3.3 млрд рублей.  \n",
        "Самые низкие показатели модель предсказала во втором регионе. Объем составляет 27 746 тыс баррелей, а доход почти 2.4 млрд рублей.  \n",
        "Значение объема сырья в третьем регионе составляет 29 603 тыс баррелей, а прибыль 2.7 млрд руб.  \n",
        "Видим, что все три региона потенциально прибыльные."
      ]
    },
    {
      "cell_type": "markdown",
      "metadata": {
        "id": "_OLJx_VhcRX3"
      },
      "source": [
        "# Посчитаем риски и прибыль для каждого региона"
      ]
    },
    {
      "cell_type": "markdown",
      "metadata": {
        "id": "a73YkG7ceD9N"
      },
      "source": [
        "### Применим технику Bootstrap с 1000 выборок, чтобы найти распределение прибыли"
      ]
    },
    {
      "cell_type": "markdown",
      "metadata": {
        "id": "NL45348BSqwA"
      },
      "source": [
        "Функция для применения техники bootstrap, подсчета средней выручки, нахождение 95% доверительного интервала и риска убытков."
      ]
    },
    {
      "cell_type": "code",
      "execution_count": null,
      "metadata": {
        "id": "u-_SpdjIrgfw",
        "trusted": false
      },
      "outputs": [],
      "source": [
        "def bootstrap(data, target, predict):\n",
        "  state = RandomState(12345)\n",
        "\n",
        "  predict = pd.Series(predict, index=target.index)\n",
        "  count = 0\n",
        "  values = []\n",
        "  for i in range(1000):\n",
        "    target_subsample = target.sample(n=500, replace=True, random_state=state)\n",
        "    probs_subsample = predict[target_subsample.index]\n",
        "    values.append(revenue(data, probs_subsample, target_subsample, 200, 1))\n",
        "\n",
        "  values = pd.Series(values)\n",
        "  \n",
        "  mean = values.mean() / 1000\n",
        "  lower = values.quantile(0.025) / 1000\n",
        "  upper = values.quantile(0.975) / 1000\n",
        "  \n",
        "  count = (values < 0).mean() * 100\n",
        "  \n",
        "  print(f'Средняя прибыль {mean.round(2)} млн рублей')\n",
        "  print(f'95% доверительный интервал {lower.round(2), upper.round(2)} млн рублей')\n",
        "  print(f'Процент вероятности убытка {count}%')\n"
      ]
    },
    {
      "cell_type": "code",
      "execution_count": null,
      "metadata": {
        "colab": {
          "base_uri": "https://localhost:8080/"
        },
        "id": "fyXFyt-m59VS",
        "outputId": "3d253956-bfca-49e8-9207-2248f1abcfba",
        "trusted": false
      },
      "outputs": [
        {
          "output_type": "stream",
          "name": "stdout",
          "text": [
            "Средняя прибыль 396.16 млн рублей\n",
            "95% доверительный интервал (-111.22, 909.77) млн рублей\n",
            "Процент вероятности убытка 6.9%\n"
          ]
        }
      ],
      "source": [
        "bootstrap(data_0, target_valid_0, predict_0)"
      ]
    },
    {
      "cell_type": "code",
      "execution_count": null,
      "metadata": {
        "colab": {
          "base_uri": "https://localhost:8080/"
        },
        "id": "BBM6x0KjePsi",
        "outputId": "359ac00e-d17d-41e6-873f-29107990033c",
        "trusted": false
      },
      "outputs": [
        {
          "output_type": "stream",
          "name": "stdout",
          "text": [
            "Средняя прибыль 456.05 млн рублей\n",
            "95% доверительный интервал (33.82, 852.29) млн рублей\n",
            "Процент вероятности убытка 1.5%\n"
          ]
        }
      ],
      "source": [
        "bootstrap(data_1, target_valid_1, predict_1)\n"
      ]
    },
    {
      "cell_type": "code",
      "execution_count": null,
      "metadata": {
        "colab": {
          "base_uri": "https://localhost:8080/"
        },
        "id": "JyP4uxBYTJHw",
        "outputId": "02d34ed1-86c4-4758-e7ec-ce57a6f609d2",
        "trusted": false
      },
      "outputs": [
        {
          "output_type": "stream",
          "name": "stdout",
          "text": [
            "Средняя прибыль 404.4 млн рублей\n",
            "95% доверительный интервал (-163.35, 950.36) млн рублей\n",
            "Процент вероятности убытка 7.6%\n"
          ]
        }
      ],
      "source": [
        "bootstrap(data_2, target_valid_2, predict_2)"
      ]
    },
    {
      "cell_type": "markdown",
      "metadata": {
        "id": "uGzWrxpKUknY"
      },
      "source": [
        "### Вывод"
      ]
    },
    {
      "cell_type": "markdown",
      "metadata": {
        "id": "6e5jWwvoUm0M"
      },
      "source": [
        "По условию нам необходимо, чтобы вероятность убытков была не выше 2.5%. Подходит только второй регион с риском убытков 1.5% и средней прибылью 456 млн рублей. 95% доверительный интервал во втором регионе имеет значения (33.82, 852.29), то есть 95% всех доходов будет находиться в этом интервале."
      ]
    },
    {
      "cell_type": "markdown",
      "metadata": {
        "id": "QNQMgtFbeR28"
      },
      "source": [
        "# Выводы и рекомендации"
      ]
    },
    {
      "cell_type": "markdown",
      "metadata": {
        "id": "jks9pcTsWwia"
      },
      "source": [
        "В нашем распоряжении были данные по пробам нефти в трех регионах, в каждом по 10 тыс скважин. Необходимо было определить, где бурить новые скважины будет наиболее выгодно. Бюджет на одну скважину составляет 50 млн рублей, а необходимый объем для безубыточной добычи нефти - 111 тыс баррелей.  \n",
        "\n",
        "Мы проанализировали данные и выяснили, что на данный момент средний запас сырья недостаточен для окупаемости разработки скважины. Мы построили модель линейной регрессии, которая предсказывала средний запас сырья в каждом регионе. Применили технику `bootstrap` с разделением каждого предсказанного значения прибыли по регионам на 1000 подвыборок.  \n",
        "\n",
        "Для разработки 200 новых скважин выбран второй регион, так как только там риск убытков менее 2.5%, а именно 1.5%. Средняя прибыль там состовляет 456 млн рублей."
      ]
    }
  ],
  "metadata": {
    "colab": {
      "provenance": []
    },
    "kernelspec": {
      "display_name": "Python 3 (ipykernel)",
      "language": "python",
      "name": "python3"
    },
    "language_info": {
      "codemirror_mode": {
        "name": "ipython",
        "version": 3
      },
      "file_extension": ".py",
      "mimetype": "text/x-python",
      "name": "python",
      "nbconvert_exporter": "python",
      "pygments_lexer": "ipython3",
      "version": "3.9.5"
    },
    "toc": {
      "base_numbering": 1,
      "nav_menu": {},
      "number_sections": true,
      "sideBar": true,
      "skip_h1_title": true,
      "title_cell": "Table of Contents",
      "title_sidebar": "Contents",
      "toc_cell": false,
      "toc_position": {},
      "toc_section_display": true,
      "toc_window_display": false
    }
  },
  "nbformat": 4,
  "nbformat_minor": 0
}